{
 "cells": [
  {
   "cell_type": "code",
   "execution_count": 11,
   "metadata": {},
   "outputs": [],
   "source": [
    "import numpy as np\n",
    "import pandas as pd\n",
    "import matplotlib.pyplot as plt"
   ]
  },
  {
   "cell_type": "code",
   "execution_count": 12,
   "metadata": {},
   "outputs": [],
   "source": [
    "df = pd.read_csv('data/meu_dataset.csv')\n",
    "x = df.cases.values\n",
    "y = df.deaths.values"
   ]
  },
  {
   "cell_type": "markdown",
   "metadata": {},
   "source": [
    "# Tarefa 1: Aprendizado Supervisionado\n",
    "\n",
    "Autor: Nasser Santiago Boan\n",
    "\n",
    "## 1) Tarefa: implementar a função “fit_linear_regression(pontos)”. Retorne os valores de m e de a.\n",
    "\n",
    "### Variáveis:\n",
    "\n",
    "> pontos: conjunto de pontos 2D (casos x mortes) que serão clusterizados\n",
    "\n",
    ">Desafio: pesquise sobre como realizar regressão linear para casos com 3 dimensões (2 features e 1 target) e implemente a função fit_linear_regression_3D(pontos).\n",
    "\n",
    "\n",
    "O seu relatório será o notebook exportado para um arquivo HTML e deve conter:\n",
    "\n",
    "> Um scatter plot mostrando os pontos e a linha estimada na regressão.<br>Calcule o R2 e discorra sobre o quão boa foi a sua aproximação, sugerindo possíveis formas de melhorar o seu modelo.<br>Compare os seus resultados com os obtidos através do sklearn.linear_model.LinearRegression. Eles deveriam ser iguais."
   ]
  },
  {
   "cell_type": "code",
   "execution_count": 24,
   "metadata": {},
   "outputs": [],
   "source": [
    "class LinReg():\n",
    "    def __init__(self,x,y):\n",
    "        self.x = x\n",
    "        self.y = y\n",
    "        self.x_mean = np.mean(x)\n",
    "        self.y_mean = np.mean(y)\n",
    "        self.n = len(x)\n",
    "        \n",
    "        \n",
    "    def fit_lin_reg(self):\n",
    "        \n",
    "        numerator = 0\n",
    "        denominator = 0\n",
    "                \n",
    "        for i in range(self.n):\n",
    "            numerator += (self.x[i] - self.x_mean) * (self.y[i] - self.y_mean)\n",
    "            denominator += (self.x[i] - self.x_mean)**2\n",
    "        \n",
    "        self.coef = numerator/denominator\n",
    "        self.intercept = self.y_mean - (self.coef * self.x_mean)\n",
    "    \n",
    "    def plot(self):\n",
    "        x_max = np.max(self.x)*1,1\n",
    "        x_min = np.min(self.x)*1,1\n",
    "\n",
    "        plt_x = np.linspace(x_min,x_max,10000)\n",
    "        plt_y = self.intercept + self.coef * plt_x\n",
    "\n",
    "        plt.figure(figsize=(15,6))\n",
    "        plt.scatter(x = self.x, y = self.y, label = 'Original data');\n",
    "        plt.plot(plt_x, plt_y, color = 'red',label = 'Linear Regression');\n",
    "        plt.legend()\n",
    "        plt.show()\n",
    "        \n",
    "    def metrics(self):\n",
    "        \n",
    "        self.rmse = 0\n",
    "        \n",
    "        for i in range(self.n):\n",
    "            pred = self.intercept + (self.coef * self.x[i])\n",
    "            self.rmse += (self.y[i] - pred)**2\n",
    "            \n",
    "        self.rmse = np.sqrt(self.rmse/self.n)\n",
    "        \n",
    "        self.sumofsquares = 0\n",
    "        self.sumofresiduals = 0\n",
    "        self.r2score = 0 \n",
    "        \n",
    "        for i in range(self.n) :\n",
    "            pred = self.intercept + (self.coef * self.x[i])\n",
    "            self.sumofsquares += (self.y[i] - self.y_mean) ** 2\n",
    "            self.sumofresiduals += (self.y[i] - pred) **2\n",
    "\n",
    "        self.r2score  = 1 - (self.sumofresiduals/self.sumofsquares)\n",
    "        \n",
    "        print(F'METRICS FOR INTERCEPT : {self.intercept} COEF : {self.coef}\\n\\nrmse   :{self.rmse}\\nr2     :{self.r2score}')"
   ]
  },
  {
   "cell_type": "code",
   "execution_count": 25,
   "metadata": {},
   "outputs": [
    {
     "data": {
      "image/png": "[encoded data removed]",
      "text/plain": [
       "<Figure size 1080x432 with 1 Axes>"
      ]
     },
     "metadata": {
      "needs_background": "light"
     },
     "output_type": "display_data"
    },
    {
     "name": "stdout",
     "output_type": "stream",
     "text": [
      "METRICS FOR INTERCEPT : -18.630122622505695 COEF : 0.03363158183436369\n",
      "\n",
      "rmse   :198.48611614013106\n",
      "r2     :0.9444904768158011\n"
     ]
    }
   ],
   "source": [
    "model = LinReg(x,y)\n",
    "model.fit_lin_reg()\n",
    "model.plot()\n",
    "model.metrics()"
   ]
  },
  {
   "cell_type": "markdown",
   "metadata": {},
   "source": [
    "## Comparando com sklearn"
   ]
  },
  {
   "cell_type": "code",
   "execution_count": 28,
   "metadata": {},
   "outputs": [],
   "source": [
    "from sklearn.linear_model import LinearRegression\n",
    "from sklearn.metrics import mean_squared_error, r2_score"
   ]
  },
  {
   "cell_type": "code",
   "execution_count": 29,
   "metadata": {},
   "outputs": [
    {
     "name": "stdout",
     "output_type": "stream",
     "text": [
      "METRICS FOR INTERCEPT : -18.630122622505525 COEF : 0.03363158183436363\n",
      "\n",
      "rmse   :198.48611614013106\n",
      "r2     :0.9412280752990321\n"
     ]
    }
   ],
   "source": [
    "lr = LinearRegression()\n",
    "lr.fit(x.reshape(-1,1),y)\n",
    "y_pred = lr.predict(x.reshape(-1,1))\n",
    "\n",
    "print(F'METRICS FOR INTERCEPT : {lr.intercept_} COEF : {lr.coef_[0]}\\n\\nrmse   :{np.sqrt(mean_squared_error(y_pred,y))}\\nr2     :{r2_score(y_pred,y)}')"
   ]
  }
 ],
 "metadata": {
  "kernelspec": {
   "display_name": "Python 3.7.6 64-bit ('base': conda)",
   "language": "python",
   "name": "python37664bitbaseconda774df39cacc84caf9286edd8f47a70cc"
  },
  "language_info": {
   "codemirror_mode": {
    "name": "ipython",
    "version": 3
   },
   "file_extension": ".py",
   "mimetype": "text/x-python",
   "name": "python",
   "nbconvert_exporter": "python",
   "pygments_lexer": "ipython3",
   "version": "3.7.6"
  }
 },
 "nbformat": 4,
 "nbformat_minor": 4
}
